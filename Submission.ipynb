{
 "cells": [
  {
   "cell_type": "code",
   "execution_count": 17,
   "metadata": {
    "collapsed": true
   },
   "outputs": [],
   "source": [
    "import numpy as np\n",
    "import pandas as pd\n",
    "import matplotlib.pyplot as plt\n",
    "%matplotlib inline"
   ]
  },
  {
   "cell_type": "code",
   "execution_count": 18,
   "metadata": {
    "collapsed": true
   },
   "outputs": [],
   "source": [
    "x0 = pd.read_csv(\"Xtr0_mat50.csv\", \" \", header=None)\n",
    "y0 = pd.read_csv(\"Ytr0.csv\", index_col=0)\n",
    "xt0 = pd.read_csv(\"Xte0_mat50.csv\", \" \", header=None)\n",
    "x0raw = pd.read_csv(\"Xtr0.csv\", \" \", header=None)\n",
    "xt0raw = pd.read_csv(\"Xte0.csv\", \" \", header=None)\n",
    "x0raw.columns = ['N']\n",
    "xt0raw.columns = ['N']\n",
    "\n",
    "x1 = pd.read_csv(\"Xtr1_mat50.csv\", \" \", header=None)\n",
    "y1 = pd.read_csv(\"Ytr1.csv\", index_col=0)\n",
    "xt1 = pd.read_csv(\"Xte1_mat50.csv\", \" \", header=None)\n",
    "x1raw = pd.read_csv(\"Xtr1.csv\", \" \", header=None)\n",
    "xt1raw = pd.read_csv(\"Xte1.csv\", \" \", header=None)\n",
    "x1raw.columns = ['N']\n",
    "xt1raw.columns = ['N']\n",
    "\n",
    "x2 = pd.read_csv(\"Xtr2_mat50.csv\", \" \", header=None)\n",
    "y2 = pd.read_csv(\"Ytr2.csv\", index_col=0)\n",
    "xt2 = pd.read_csv(\"Xte2_mat50.csv\", \" \", header=None)\n",
    "x2raw = pd.read_csv(\"Xtr2.csv\", \" \", header=None)\n",
    "xt2raw = pd.read_csv(\"Xte2.csv\", \" \", header=None)\n",
    "x2raw.columns = ['N']\n",
    "xt2raw.columns = ['N']"
   ]
  },
  {
   "cell_type": "markdown",
   "metadata": {},
   "source": [
    "create features"
   ]
  },
  {
   "cell_type": "code",
   "execution_count": 19,
   "metadata": {
    "collapsed": true
   },
   "outputs": [],
   "source": [
    "nuc_3 = []\n",
    "for i in ['A', 'T', 'C', 'G']:\n",
    "    for j in ['A', 'T', 'C', 'G']:\n",
    "        for k in ['A', 'T', 'C', 'G']:\n",
    "            for l in ['A', 'T', 'C', 'G']:\n",
    "                for m in ['A', 'T', 'C', 'G']:\n",
    "                    nuc_3.append(i+j+k+l+m)\n",
    "                    \n",
    "for i in nuc_3:\n",
    "    x0raw[i] = 1.*x0raw.N.apply(lambda x: i in x)\n",
    "    x1raw[i] = 1.*x1raw.N.apply(lambda x: i in x)\n",
    "    x2raw[i] = 1.*x2raw.N.apply(lambda x: i in x)\n",
    "    xt0raw[i] = 1.*xt0raw.N.apply(lambda x: i in x)\n",
    "    xt1raw[i] = 1.*xt1raw.N.apply(lambda x: i in x)\n",
    "    xt2raw[i] = 1.*xt2raw.N.apply(lambda x: i in x)\n",
    "\n",
    "x0raw = x0raw.drop(\"N\", axis = 1)\n",
    "x1raw = x1raw.drop(\"N\", axis = 1)\n",
    "x2raw = x2raw.drop(\"N\", axis = 1)\n",
    "xt0raw = xt0raw.drop(\"N\", axis = 1)\n",
    "xt1raw = xt1raw.drop(\"N\", axis = 1)\n",
    "xt2raw = xt2raw.drop(\"N\", axis = 1)"
   ]
  },
  {
   "cell_type": "markdown",
   "metadata": {},
   "source": [
    "define logistic regression"
   ]
  },
  {
   "cell_type": "code",
   "execution_count": 20,
   "metadata": {
    "collapsed": true
   },
   "outputs": [],
   "source": [
    "from random import *\n",
    "\n",
    "def train_logistic(x, y, n=0.003, T=100000, lamb = 0.1):\n",
    "    w0 = 0\n",
    "    t = 0\n",
    "    m = x.shape[0]\n",
    "    w = np.zeros(x.shape[1])\n",
    "    y = np.array(y.iloc[:,0])\n",
    "    x = np.array(x)\n",
    "    L = []\n",
    "    while t<T:\n",
    "        hw = w0 + np.dot(x,w)\n",
    "        hw = 1/(1+np.exp(-hw))\n",
    "        grad = np.dot(y-hw,x) - lamb*w\n",
    "        w = w + n*grad\n",
    "        w0 = w0 + n*np.sum(y-hw) - n*lamb\n",
    "        if np.linalg.norm(grad)<0.1: break\n",
    "        t+=1\n",
    "    return(w, w0)\n",
    "\n",
    "def pred_logistic(x, w, w0):\n",
    "    hw = w0 + w.dot(x.T)\n",
    "    hw = 1/(1+np.exp(-hw))\n",
    "#     hw = 1.*(hw > 0.5)\n",
    "    return(hw)"
   ]
  },
  {
   "cell_type": "markdown",
   "metadata": {},
   "source": [
    "train"
   ]
  },
  {
   "cell_type": "code",
   "execution_count": 21,
   "metadata": {
    "collapsed": true
   },
   "outputs": [],
   "source": [
    "w_0, w0_0 = train_logistic(x0raw, y0, n=0.0001, T= 400, lamb=49)"
   ]
  },
  {
   "cell_type": "code",
   "execution_count": 22,
   "metadata": {
    "collapsed": true
   },
   "outputs": [],
   "source": [
    "w_1, w0_1 = train_logistic(x1raw, y1, n=0.00001, T= 1000, lamb=34)"
   ]
  },
  {
   "cell_type": "code",
   "execution_count": 23,
   "metadata": {
    "collapsed": true
   },
   "outputs": [],
   "source": [
    "w_2, w0_2 = train_logistic(x2raw, y2, n=0.0001, T= 100, lamb=34)"
   ]
  },
  {
   "cell_type": "markdown",
   "metadata": {},
   "source": [
    "predict on test set"
   ]
  },
  {
   "cell_type": "code",
   "execution_count": 24,
   "metadata": {
    "collapsed": true
   },
   "outputs": [],
   "source": [
    "pred0 = pred_logistic(xt0raw, w_0, w0_0)\n",
    "pred1 = pred_logistic(xt1raw, w_1, w0_1)\n",
    "pred2 = pred_logistic(xt2raw, w_2, w0_2)"
   ]
  },
  {
   "cell_type": "markdown",
   "metadata": {},
   "source": [
    "transform to the appropriate submission format"
   ]
  },
  {
   "cell_type": "code",
   "execution_count": 25,
   "metadata": {
    "collapsed": true
   },
   "outputs": [],
   "source": [
    "col2 = np.append(np.append(pred0, pred1), pred2)\n",
    "col1 = range(0, 3000)\n",
    "preds = pd.DataFrame({'Id': col1, 'Bound': col2})"
   ]
  },
  {
   "cell_type": "code",
   "execution_count": 26,
   "metadata": {
    "collapsed": true
   },
   "outputs": [],
   "source": [
    "sub_noleakage = preds.copy()\n",
    "sub_noleakage.Bound = 1*(sub_noleakage.Bound > 0.5)"
   ]
  },
  {
   "cell_type": "markdown",
   "metadata": {},
   "source": [
    "save without the trick"
   ]
  },
  {
   "cell_type": "code",
   "execution_count": 27,
   "metadata": {
    "collapsed": true,
    "scrolled": true
   },
   "outputs": [],
   "source": [
    "sub_noleakage.to_csv('submission_final_no_leakage4.csv', sep=',', encoding='utf-8',index=False)"
   ]
  },
  {
   "cell_type": "code",
   "execution_count": 28,
   "metadata": {
    "collapsed": true
   },
   "outputs": [],
   "source": [
    "x0te = pd.read_table(\"Xte0.csv\", delimiter=' ',header=None)\n",
    "x1te = pd.read_table(\"Xte1.csv\", delimiter=' ',header=None)\n",
    "x2te = pd.read_table(\"Xte2.csv\", delimiter=' ',header=None)"
   ]
  },
  {
   "cell_type": "markdown",
   "metadata": {},
   "source": [
    "apply the trick explained in the report"
   ]
  },
  {
   "cell_type": "code",
   "execution_count": null,
   "metadata": {
    "collapsed": true
   },
   "outputs": [],
   "source": [
    "xte=x0te.append(x1te).append(x2te)\n",
    "xte = xte.reset_index(drop=True)\n",
    "xte.columns = ['V1']\n",
    "xte['Acount'] = xte['V1'].apply(lambda x: x.count(\"A\"))\n",
    "xte['Gcount'] = xte['V1'].apply(lambda x: x.count(\"G\"))\n",
    "xte['Ccount'] = xte['V1'].apply(lambda x: x.count(\"C\"))\n",
    "xte['Tcount'] = xte['V1'].apply(lambda x: x.count(\"T\"))\n",
    "xte = pd.concat([xte,preds['Bound']], axis=1, join_axes=[xte.index])\n",
    "uniques=xte[[\"Acount\", \"Gcount\", \"Ccount\", \"Tcount\"]].drop_duplicates()\n",
    "xte['new_pred'] = np.nan"
   ]
  },
  {
   "cell_type": "code",
   "execution_count": null,
   "metadata": {},
   "outputs": [],
   "source": [
    "for i in range(0,uniques.shape[0]):\n",
    "    temp = xte[(xte['Acount'] == uniques.iloc[i,0])& (xte['Gcount'] == uniques.iloc[i,1]) & (xte['Ccount'] == uniques.iloc[i,2]) & (xte['Tcount'] == uniques.iloc[i,3])]\n",
    "    nr = temp.shape[0]\n",
    "    zero_vals = temp.sort_values(by=['Bound']).iloc[0:int(nr/2),5]\n",
    "    temp.loc[temp.isin(zero_vals)['Bound'],'new_pred'] = 0\n",
    "    temp.loc[(~(temp.isin(zero_vals)))['Bound'],'new_pred'] = 1\n",
    "    xte.loc[(xte['Acount'] == uniques.iloc[i,0])& (xte['Gcount'] == uniques.iloc[i,1]) & (xte['Ccount'] == uniques.iloc[i,2]) & (xte['Tcount'] == uniques.iloc[i,3]),'new_pred'] = temp['new_pred']"
   ]
  },
  {
   "cell_type": "code",
   "execution_count": null,
   "metadata": {
    "collapsed": true
   },
   "outputs": [],
   "source": [
    "xte['Id'] = [x for x in  range(0,xte.shape[0])]\n",
    "sub = xte.loc[:,('new_pred','Id')]\n",
    "sub.columns = ['Bound', 'Id']\n",
    "sub.Bound = sub.Bound.astype(int)\n",
    "sub.to_csv('submission_final_leakage4.csv', sep=',', encoding='utf-8',index=False)"
   ]
  }
 ],
 "metadata": {
  "kernelspec": {
   "display_name": "Python 2",
   "language": "python",
   "name": "python2"
  },
  "language_info": {
   "codemirror_mode": {
    "name": "ipython",
    "version": 2
   },
   "file_extension": ".py",
   "mimetype": "text/x-python",
   "name": "python",
   "nbconvert_exporter": "python",
   "pygments_lexer": "ipython2",
   "version": "2.7.14"
  }
 },
 "nbformat": 4,
 "nbformat_minor": 2
}
